{
  "nbformat": 4,
  "nbformat_minor": 0,
  "metadata": {
    "colab": {
      "name": "Multilayer_Perceptron",
      "provenance": [],
      "collapsed_sections": [],
      "include_colab_link": true
    },
    "kernelspec": {
      "name": "python3",
      "display_name": "Python 3"
    }
  },
  "cells": [
    {
      "cell_type": "markdown",
      "metadata": {
        "id": "view-in-github",
        "colab_type": "text"
      },
      "source": [
        "<a href=\"https://colab.research.google.com/github/abyssinia28/Machine-Learning/blob/master/Long_Short_Term_Memory_Networks.ipynb\" target=\"_parent\"><img src=\"https://colab.research.google.com/assets/colab-badge.svg\" alt=\"Open In Colab\"/></a>"
      ]
    },
    {
      "cell_type": "markdown",
      "metadata": {
        "id": "sfNN5-5Wu2_x",
        "colab_type": "text"
      },
      "source": [
        "# Installing Libraries"
      ]
    },
    {
      "cell_type": "code",
      "metadata": {
        "id": "mGpUie2RuUkD",
        "colab_type": "code",
        "outputId": "66bbc1bc-c2cd-4ed5-8e4a-1a2f2735e260",
        "colab": {
          "base_uri": "https://localhost:8080/",
          "height": 34
        }
      },
      "source": [
        "import tensorflow as tf\n",
        "import pandas as pd\n",
        "import numpy as np\n",
        "import seaborn as sns\n",
        "import matplotlib.pyplot as plt\n",
        "import matplotlib.lines as mlines\n",
        "import math\n",
        "import time\n",
        "import seaborn as sns\n",
        "from keras.models import Sequential\n",
        "from keras.layers import Dense, Activation\n",
        "from keras import optimizers\n",
        "from keras.wrappers.scikit_learn import KerasRegressor\n",
        "from sklearn.model_selection import GridSearchCV\n",
        "from keras import regularizers\n",
        "from keras.layers import Dropout, BatchNormalization"
      ],
      "execution_count": 0,
      "outputs": [
        {
          "output_type": "stream",
          "text": [
            "Using TensorFlow backend.\n"
          ],
          "name": "stderr"
        }
      ]
    },
    {
      "cell_type": "markdown",
      "metadata": {
        "id": "OeDpb60xvJtB",
        "colab_type": "text"
      },
      "source": [
        "# Training the multilayer perceptron model"
      ]
    },
    {
      "cell_type": "code",
      "metadata": {
        "id": "53xq3RHFvWfN",
        "colab_type": "code",
        "colab": {}
      },
      "source": [
        "def mlp_seq(x_norm_train, x_norm_test, y_train, y_test):\n",
        "    \"\"\"\n",
        "    Builds mlp, trains and tests it\n",
        "    \"\"\"\n",
        "    #simple model\n",
        "    model = Sequential()\n",
        "    model.add(Dropout(0.2, input_shape = (x_norm_train.shape[1],)))\n",
        "    model.add(Dense(94, activation = 'sigmoid',\\\n",
        "                    input_shape = (x_norm_train.shape[1],)))\n",
        "    model.add(Dense(94, activation='sigmoid'))\n",
        "    model.add(BatchNormalization())\n",
        "    # model.add(Dense(180, activation='relu'))\n",
        "    model.add(Dense(1))\n",
        "    \n",
        "    #Training model\n",
        "    model.compile(loss = 'mean_squared_error', optimizer = 'adagrad', \\\n",
        "                  metrics=['mean_squared_error', 'mean_absolute_error'])\n",
        "    history = model.fit(x_norm_train, y_train['surge'], epochs = 50, \\\n",
        "              batch_size = 10, verbose = 1, validation_split=0.2)\n",
        "    \n",
        "    testPredict = model.predict(x_norm_test)\n",
        "    \n",
        "    #prepare data for plotting\n",
        "    yy = y_test[:]\n",
        "    yy.reset_index(inplace=True)\n",
        "    yy.drop(['index'], axis = 1, inplace=True) \n",
        "    \n",
        "    #make model evaluation\n",
        "    from sklearn.metrics import mean_squared_error, \\\n",
        "        mean_absolute_error, r2_score\n",
        "    print()\n",
        "    print(\"mse = \", mean_squared_error(y_test['surge'], testPredict))\n",
        "    print(\"mae = \", mean_absolute_error(y_test['surge'], testPredict))\n",
        "    print(\"r2_score = \", r2_score(y_test['surge'], testPredict))\n",
        "\n",
        "    print()\n",
        "    \n",
        "    #plotting \n",
        "    sns.set_context('notebook', font_scale= 1.5)\n",
        "    plt.figure(figsize=(20,6))\n",
        "    plt.plot(y_test['date'], yy['surge'], color = 'blue')\n",
        "    plt.plot(y_test['date'],testPredict, color= 'red')\n",
        "    plt.legend(['Observed Surge', 'Modeled Surge'],fontsize = 14)\n",
        "    plt.ylabel('Surge Height (m)')\n",
        "\n",
        "    fig, ax = plt.subplots()\n",
        "    ax.scatter(y_test['surge'], testPredict, c='black')\n",
        "    line = mlines.Line2D([0, 1], [0, 1], color='red')\n",
        "    transform = ax.transAxes\n",
        "    line.set_transform(transform)\n",
        "    ax.add_line(line)\n",
        "    plt.show()\n",
        "\n",
        "    #list all data in history\n",
        "    print(history.history.keys())\n",
        "    # summarize history for accuracy\n",
        "    plt.figure(figsize=(15,8))\n",
        "    plt.plot(history.history['mean_squared_error'])\n",
        "    plt.plot(history.history['val_mean_squared_error'])\n",
        "    plt.title('model accuracy')\n",
        "    plt.ylabel('accuracy')\n",
        "    plt.xlabel('epoch')\n",
        "    plt.legend(['train', 'test'], loc='upper left')\n",
        "    plt.show()\n",
        "\n",
        "    # summarize history for loss\n",
        "    plt.figure(figsize = (15,8))\n",
        "    plt.plot(history.history['loss'])\n",
        "    plt.plot(history.history['val_loss'])\n",
        "    plt.title('model loss')\n",
        "    plt.ylabel('loss')\n",
        "    plt.xlabel('epoch')\n",
        "    plt.legend(['train', 'test'], loc='upper left')\n",
        "    plt.show()\n",
        "    return testPredict"
      ],
      "execution_count": 0,
      "outputs": []
    }
  ]
}